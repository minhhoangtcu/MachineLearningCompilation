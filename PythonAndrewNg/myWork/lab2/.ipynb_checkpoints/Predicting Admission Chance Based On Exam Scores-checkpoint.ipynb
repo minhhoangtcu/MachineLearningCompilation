{
 "cells": [
  {
   "cell_type": "markdown",
   "metadata": {},
   "source": [
    "# <center>Programming Exercise 2: Logistic Regression</center>\n",
    "In this part of the exercise, you will build a logistic regression model to predict whether a student gets admitted into a university.\n",
    "\n",
    "Suppose that you are the administrator of a university department and you want to determine each applicant’s chance of admission based on their results on two exams. You have historical data from previous applicants that you can use as a training set for logistic regression. For each training example, you have the applicant’s scores on two exams and the admissions decision.\n",
    "\n",
    "Your task is to build a classification model that estimates an applicant’s probability of admission based the scores from those two exams. \n",
    "\n",
    "## Logistic Regression\n",
    "\n",
    "### Import libraries"
   ]
  },
  {
   "cell_type": "code",
   "execution_count": 2,
   "metadata": {
    "collapsed": false
   },
   "outputs": [],
   "source": [
    "import numpy as np\n",
    "import pandas as pd\n",
    "import matplotlib.pyplot as plt"
   ]
  },
  {
   "cell_type": "markdown",
   "metadata": {},
   "source": [
    "### Import data"
   ]
  },
  {
   "cell_type": "code",
   "execution_count": 8,
   "metadata": {
    "collapsed": false
   },
   "outputs": [
    {
     "data": {
      "text/html": [
       "<div>\n",
       "<table border=\"1\" class=\"dataframe\">\n",
       "  <thead>\n",
       "    <tr style=\"text-align: right;\">\n",
       "      <th></th>\n",
       "      <th></th>\n",
       "      <th>FirstScore</th>\n",
       "      <th>SecondScore</th>\n",
       "    </tr>\n",
       "  </thead>\n",
       "  <tbody>\n",
       "    <tr>\n",
       "      <th>0</th>\n",
       "      <td>1.0</td>\n",
       "      <td>34.623660</td>\n",
       "      <td>78.024693</td>\n",
       "    </tr>\n",
       "    <tr>\n",
       "      <th>1</th>\n",
       "      <td>1.0</td>\n",
       "      <td>30.286711</td>\n",
       "      <td>43.894998</td>\n",
       "    </tr>\n",
       "    <tr>\n",
       "      <th>2</th>\n",
       "      <td>1.0</td>\n",
       "      <td>35.847409</td>\n",
       "      <td>72.902198</td>\n",
       "    </tr>\n",
       "    <tr>\n",
       "      <th>3</th>\n",
       "      <td>1.0</td>\n",
       "      <td>60.182599</td>\n",
       "      <td>86.308552</td>\n",
       "    </tr>\n",
       "    <tr>\n",
       "      <th>4</th>\n",
       "      <td>1.0</td>\n",
       "      <td>79.032736</td>\n",
       "      <td>75.344376</td>\n",
       "    </tr>\n",
       "  </tbody>\n",
       "</table>\n",
       "</div>"
      ],
      "text/plain": [
       "        FirstScore  SecondScore\n",
       "0  1.0   34.623660    78.024693\n",
       "1  1.0   30.286711    43.894998\n",
       "2  1.0   35.847409    72.902198\n",
       "3  1.0   60.182599    86.308552\n",
       "4  1.0   79.032736    75.344376"
      ]
     },
     "execution_count": 8,
     "metadata": {},
     "output_type": "execute_result"
    }
   ],
   "source": [
    "data = pd.read_csv('./data/ex2data1.txt', header=None, names=['FirstScore', 'SecondScore', 'isAdmitted'])\n",
    "m = data.shape[0]\n",
    "\n",
    "X = pd.DataFrame({\"FirstScore\": data.FirstScore, \"SecondScore\": data.SecondScore})\n",
    "X.insert(0, '', np.ones(m))\n",
    "y = data.isAdmitted\n",
    "\n",
    "X.head()"
   ]
  },
  {
   "cell_type": "markdown",
   "metadata": {},
   "source": [
    "### Visualizing the data"
   ]
  },
  {
   "cell_type": "code",
   "execution_count": 32,
   "metadata": {
    "collapsed": false
   },
   "outputs": [
    {
     "data": {
      "image/png": "[encoded data removed]",
      "text/plain": [
       "<matplotlib.figure.Figure at 0x107a78a90>"
      ]
     },
     "metadata": {},
     "output_type": "display_data"
    }
   ],
   "source": [
    "plt.plot(X.FirstScore[y == 1], X.SecondScore[y == 1], 'rx', label='Admmited')\n",
    "plt.plot(X.FirstScore[y == 0], X.SecondScore[y == 0], 'o', label='Not admmited')\n",
    "plt.xlabel('First Score')\n",
    "plt.ylabel('Second Score')\n",
    "plt.legend(loc='upper right')\n",
    "plt.show()"
   ]
  },
  {
   "cell_type": "markdown",
   "metadata": {},
   "source": [
    "### Sigmoid Function"
   ]
  },
  {
   "cell_type": "code",
   "execution_count": 52,
   "metadata": {
    "collapsed": false
   },
   "outputs": [],
   "source": [
    "import math\n",
    "\n",
    "# Vectorized Sigmoid functions\n",
    "def sigmoid(x):\n",
    "    return 1.0 / (1.0 + np.exp(-x))"
   ]
  },
  {
   "cell_type": "code",
   "execution_count": 84,
   "metadata": {
    "collapsed": false
   },
   "outputs": [
    {
     "name": "stdout",
     "output_type": "stream",
     "text": [
      "1.0\n",
      "1.01122149261e-43\n",
      "0.5\n"
     ]
    }
   ],
   "source": [
    "print(sigmoid(99999)) # should be as close to 1 as possible\n",
    "print(sigmoid(-99))   # should be as close to 0 as possible\n",
    "print(sigmoid(0))     # should be 0.5"
   ]
  },
  {
   "cell_type": "code",
   "execution_count": 83,
   "metadata": {
    "collapsed": false
   },
   "outputs": [
    {
     "data": {
      "image/png": "[encoded data removed]",
      "text/plain": [
       "<matplotlib.figure.Figure at 0x108199278>"
      ]
     },
     "metadata": {},
     "output_type": "display_data"
    }
   ],
   "source": [
    "sigmoidTest = np.arange(-10, 10, .1)\n",
    "plt.plot(sigmoidTest, sigmoid(sigmoidTest))\n",
    "plt.grid(True)\n",
    "plt.show()"
   ]
  },
  {
   "cell_type": "markdown",
   "metadata": {},
   "source": [
    "### Cost function and gradient"
   ]
  },
  {
   "cell_type": "markdown",
   "metadata": {},
   "source": [
    "Gradient of the cost is a vector of the same length as θ where the jth element (for j = 0,1,...,n)\n",
    "\n",
    "Check out the cost function and gradient in [vectorized form](https://github.com/JWarmenhoven/Coursera-Machine-Learning/blob/master/notebooks/Programming%20Exercise%202%20-%20Logistic%20Regression.ipynb)"
   ]
  },
  {
   "cell_type": "code",
   "execution_count": 141,
   "metadata": {
    "collapsed": false
   },
   "outputs": [],
   "source": [
    "# Logistic regression hypothesis. \n",
    "def h(theta, X):\n",
    "    return sigmoid(np.dot(X, theta))\n",
    "\n",
    "def computeCost(theta, X, y):\n",
    "    m = y.size\n",
    "    term1 = np.dot(-np.array(y).T, np.log(h(theta,X)))\n",
    "    term2 = np.dot((1 - np.array(y)).T, np.log(1 - h(theta,X)))\n",
    "    J = (term1 -  term2) / m\n",
    "    return J"
   ]
  },
  {
   "cell_type": "code",
   "execution_count": 142,
   "metadata": {
    "collapsed": true
   },
   "outputs": [],
   "source": [
    "def gradient(theta, X, y):\n",
    "    m = y.size\n",
    "    differences = h(theta, X) - y\n",
    "    return (1.0/m) * np.dot(differences.T, X)"
   ]
  },
  {
   "cell_type": "code",
   "execution_count": 144,
   "metadata": {
    "collapsed": false
   },
   "outputs": [
    {
     "name": "stdout",
     "output_type": "stream",
     "text": [
      "Cost: \n",
      " 5.21461781603\n",
      "Grad: \n",
      " [ -0.1        -12.00921659 -11.26284221]\n"
     ]
    }
   ],
   "source": [
    "initial_theta = np.zeros(X.shape[1])\n",
    "cost = computeCost(np.array([0.25, 0.5, -0.5]), X, y)\n",
    "grad = gradient(initial_theta, X, y)\n",
    "print('Cost: \\n', cost) # should be 0.693\n",
    "print('Grad: \\n', grad)"
   ]
  },
  {
   "cell_type": "markdown",
   "metadata": {},
   "source": [
    "### Learning parameters optimized\n",
    "An alternative to OCTAVE's 'fminunc' we'll use some scipy.optimize function, `fmin`. Note `fmin` does not need to be told explicitly the derivative terms. It only needs the cost function, and it minimizes with the \"downhill simplex algorithm.\"\n",
    "\n",
    "[Link](http://docs.scipy.org/doc/scipy-0.16.0/reference/generated/scipy.optimize.fmin.html)"
   ]
  },
  {
   "cell_type": "code",
   "execution_count": 103,
   "metadata": {
    "collapsed": true
   },
   "outputs": [],
   "source": [
    "from scipy import optimize\n",
    "\n",
    "def optimizeTheta(theta,X,y):\n",
    "    result = optimize.fmin(computeCost, x0=theta, args=(X, y), maxiter=400, full_output=True)\n",
    "    return result[0], result[1]"
   ]
  },
  {
   "cell_type": "code",
   "execution_count": 104,
   "metadata": {
    "collapsed": false
   },
   "outputs": [
    {
     "name": "stdout",
     "output_type": "stream",
     "text": [
      "Optimization terminated successfully.\n",
      "         Current function value: 0.203498\n",
      "         Iterations: 157\n",
      "         Function evaluations: 287\n"
     ]
    }
   ],
   "source": [
    "theta, mincost = optimizeTheta(initial_theta,X,y)"
   ]
  },
  {
   "cell_type": "code",
   "execution_count": 108,
   "metadata": {
    "collapsed": false
   },
   "outputs": [
    {
     "name": "stdout",
     "output_type": "stream",
     "text": [
      "0.20349770159\n"
     ]
    }
   ],
   "source": [
    "print(computeCost(theta, X, y)) # compute cost with optimized theta"
   ]
  },
  {
   "cell_type": "markdown",
   "metadata": {},
   "source": [
    "### Predict"
   ]
  },
  {
   "cell_type": "code",
   "execution_count": 125,
   "metadata": {
    "collapsed": true
   },
   "outputs": [],
   "source": [
    "def predict(theta, X):\n",
    "    return sigmoid(np.dot(X, theta)) >= 0.5"
   ]
  },
  {
   "cell_type": "code",
   "execution_count": 127,
   "metadata": {
    "collapsed": false
   },
   "outputs": [
    {
     "name": "stdout",
     "output_type": "stream",
     "text": [
      "For a student with scores 45 and 85, we predict an admission probability of 0.776\n"
     ]
    }
   ],
   "source": [
    "prob = sigmoid(np.array([1, 45, 85]).dot(theta))\n",
    "print('For a student with scores 45 and 85, we predict an admission probability of {:.3f}'.format(prob))\n",
    "# expect 0.776"
   ]
  },
  {
   "cell_type": "code",
   "execution_count": null,
   "metadata": {
    "collapsed": true
   },
   "outputs": [],
   "source": []
  }
 ],
 "metadata": {
  "kernelspec": {
   "display_name": "Python 3",
   "language": "python",
   "name": "python3"
  },
  "language_info": {
   "codemirror_mode": {
    "name": "ipython",
    "version": 3
   },
   "file_extension": ".py",
   "mimetype": "text/x-python",
   "name": "python",
   "nbconvert_exporter": "python",
   "pygments_lexer": "ipython3",
   "version": "3.6.0"
  }
 },
 "nbformat": 4,
 "nbformat_minor": 2
}
